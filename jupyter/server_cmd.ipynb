{
 "cells": [
  {
   "cell_type": "code",
   "execution_count": 1,
   "metadata": {},
   "outputs": [
    {
     "ename": "NameError",
     "evalue": "name 'configurations' is not defined",
     "output_type": "error",
     "traceback": [
      "\u001b[0;31m---------------------------------------------------------------------------\u001b[0m",
      "\u001b[0;31mNameError\u001b[0m                                 Traceback (most recent call last)",
      "\u001b[0;32m<ipython-input-1-601f2256088b>\u001b[0m in \u001b[0;36m<module>\u001b[0;34m\u001b[0m\n\u001b[0;32m----> 1\u001b[0;31m \u001b[0;34m{\u001b[0m\u001b[0mname\u001b[0m\u001b[0;34m:\u001b[0m\u001b[0mconfiguration\u001b[0m\u001b[0;34m.\u001b[0m\u001b[0minitialize\u001b[0m\u001b[0;34m(\u001b[0m\u001b[0;34m)\u001b[0m \u001b[0;32mfor\u001b[0m \u001b[0;34m(\u001b[0m\u001b[0mname\u001b[0m\u001b[0;34m,\u001b[0m\u001b[0mconfiguration\u001b[0m\u001b[0;34m)\u001b[0m \u001b[0;32min\u001b[0m \u001b[0mconfigurations\u001b[0m\u001b[0;34m.\u001b[0m\u001b[0mitems\u001b[0m\u001b[0;34m(\u001b[0m\u001b[0;34m)\u001b[0m\u001b[0;34m}\u001b[0m\u001b[0;34m\u001b[0m\u001b[0;34m\u001b[0m\u001b[0m\n\u001b[0m",
      "\u001b[0;31mNameError\u001b[0m: name 'configurations' is not defined"
     ]
    }
   ],
   "source": [
    "{name:configuration.initialize() for (name,configuration) in configurations.items()}"
   ]
  },
  {
   "cell_type": "code",
   "execution_count": null,
   "metadata": {},
   "outputs": [],
   "source": [
    "from datetime import timedelta, datetime, date, time\n",
    "import whendo.core.util as util\n",
    "import thenthis.server_configs as conf_x\n",
    "\n",
    "hub = \"batterypi\"\n",
    "test = \"sandpatch-pivot\"\n",
    "pivot = \"sandpatch\" # remotepi\n",
    "configurations = conf_x.ranch_configurations\n",
    "pp = lambda x: util.PP.pprint(x.flatten_results())"
   ]
  },
  {
   "cell_type": "code",
   "execution_count": null,
   "metadata": {},
   "outputs": [],
   "source": [
    "operations = {name:configuration.operations() for (name,configuration) in configurations.items()}"
   ]
  },
  {
   "cell_type": "code",
   "execution_count": null,
   "metadata": {},
   "outputs": [],
   "source": [
    "print(f\"pivot operation ({pivot_operation}) test operation ({test_operation})\")"
   ]
  },
  {
   "cell_type": "markdown",
   "metadata": {},
   "source": [
    "####  commands applying to **test pi**"
   ]
  },
  {
   "cell_type": "code",
   "execution_count": 5,
   "metadata": {},
   "outputs": [
    {
     "name": "stdout",
     "output_type": "stream",
     "text": [
      "[ { 'action_info': { 'class': 'whendo.core.actions.dispatch_action.ScheduleProgram',\n",
      "                     'instance': { 'program_name': 'toggle_program',\n",
      "                                   'schedule_program': 'schedule_program',\n",
      "                                   'start_stop': None}},\n",
      "    'action_result': 'program (toggle_program) scheduled, '\n",
      "                     'start_stop(dt1=datetime.datetime(2021, 6, 13, 16, 19, '\n",
      "                     '26, 431891) dt2=datetime.datetime(2021, 6, 14, 7, 19, '\n",
      "                     '26, 432142))'},\n",
      "  {'action_info': None, 'action_result': 'Empty action result'}]\n"
     ]
    }
   ],
   "source": [
    "pp(operations[test].schedule_toggle(start=util.Now.dt(), stop=util.Now.dt() + timedelta(hours=15)))\n",
    "test_operation = \"toggle\""
   ]
  },
  {
   "cell_type": "code",
   "execution_count": null,
   "metadata": {},
   "outputs": [],
   "source": [
    "pp(operations[test].schedule_pivot(start=util.Now.dt(), stop=util.Now.dt() + timedelta(hours=15)))\n",
    "test_operation = \"start_pivot\""
   ]
  },
  {
   "cell_type": "code",
   "execution_count": null,
   "metadata": {},
   "outputs": [],
   "source": [
    "pp(operations[test].unschedule_toggle())\n",
    "test_operation = None"
   ]
  },
  {
   "cell_type": "code",
   "execution_count": null,
   "metadata": {},
   "outputs": [],
   "source": [
    "pp(operations[test].unschedule_pivot())\n",
    "test_operation = None"
   ]
  },
  {
   "cell_type": "code",
   "execution_count": null,
   "metadata": {},
   "outputs": [],
   "source": [
    "pp(operations[test].show_system_info())"
   ]
  },
  {
   "cell_type": "code",
   "execution_count": null,
   "metadata": {},
   "outputs": [],
   "source": [
    "pp(operations[test].show_pin_states())"
   ]
  },
  {
   "cell_type": "code",
   "execution_count": null,
   "metadata": {},
   "outputs": [],
   "source": [
    "pp(operations[test].show_scheduling())"
   ]
  },
  {
   "cell_type": "code",
   "execution_count": null,
   "metadata": {},
   "outputs": [],
   "source": [
    "pp(operations[test].show_dispatcher_info())"
   ]
  },
  {
   "cell_type": "markdown",
   "metadata": {
    "tags": []
   },
   "source": [
    "####  commands applying to **pivot pi**"
   ]
  },
  {
   "cell_type": "code",
   "execution_count": 6,
   "metadata": {},
   "outputs": [
    {
     "name": "stdout",
     "output_type": "stream",
     "text": [
      "[ { 'action_info': { 'class': 'whendo.core.actions.dispatch_action.ScheduleProgram',\n",
      "                     'instance': { 'program_name': 'toggle_program',\n",
      "                                   'schedule_program': 'schedule_program',\n",
      "                                   'start_stop': None}},\n",
      "    'action_result': 'program (toggle_program) scheduled, '\n",
      "                     'start_stop(dt1=datetime.datetime(2021, 6, 13, 16, 19, '\n",
      "                     '32, 564857) dt2=datetime.datetime(2021, 6, 14, 7, 19, '\n",
      "                     '32, 565108))'},\n",
      "  {'action_info': None, 'action_result': 'Empty action result'}]\n"
     ]
    }
   ],
   "source": [
    "pp(operations[pivot].schedule_toggle(start=util.Now.dt(), stop=util.Now.dt() + timedelta(hours=15)))\n",
    "pivot_operation = \"toggle\""
   ]
  },
  {
   "cell_type": "code",
   "execution_count": null,
   "metadata": {},
   "outputs": [],
   "source": [
    "pp(operations[pivot].schedule_pivot(start=util.Now.dt(), stop=util.Now.dt() + timedelta(hours=15)))\n",
    "pivot_operation = \"start_pivot\""
   ]
  },
  {
   "cell_type": "code",
   "execution_count": null,
   "metadata": {},
   "outputs": [],
   "source": [
    "pp(operations[pivot].unschedule_toggle())\n",
    "pivot_operation = None"
   ]
  },
  {
   "cell_type": "code",
   "execution_count": null,
   "metadata": {},
   "outputs": [],
   "source": [
    "pp(operations[pivot].unschedule_pivot())\n",
    "pivot_operation = None"
   ]
  },
  {
   "cell_type": "code",
   "execution_count": null,
   "metadata": {},
   "outputs": [],
   "source": [
    "pp(operations[pivot].show_system_info())"
   ]
  },
  {
   "cell_type": "code",
   "execution_count": null,
   "metadata": {},
   "outputs": [],
   "source": [
    "pp(operations[pivot].show_pin_states())"
   ]
  },
  {
   "cell_type": "code",
   "execution_count": null,
   "metadata": {},
   "outputs": [],
   "source": [
    "pp(operations[pivot].show_scheduling())"
   ]
  },
  {
   "cell_type": "code",
   "execution_count": null,
   "metadata": {
    "tags": []
   },
   "outputs": [],
   "source": [
    "pp(operations[pivot].show_dispatcher_info())"
   ]
  },
  {
   "cell_type": "markdown",
   "metadata": {
    "tags": []
   },
   "source": [
    "####  commands applying to **hub pi**"
   ]
  },
  {
   "cell_type": "code",
   "execution_count": null,
   "metadata": {},
   "outputs": [],
   "source": [
    "pp(operations[pivot].show_system_info())"
   ]
  },
  {
   "cell_type": "code",
   "execution_count": null,
   "metadata": {
    "tags": []
   },
   "outputs": [],
   "source": [
    "pp(operations[pivot].show_dispatcher_info())"
   ]
  },
  {
   "cell_type": "markdown",
   "metadata": {},
   "source": [
    "####  miscellany"
   ]
  },
  {
   "cell_type": "code",
   "execution_count": null,
   "metadata": {},
   "outputs": [],
   "source": [
    "operations[pivot].make_client().execute_action(\"pinA_on\")"
   ]
  },
  {
   "cell_type": "code",
   "execution_count": null,
   "metadata": {},
   "outputs": [],
   "source": [
    "operations[pivot].make_client().execute_action(\"pinA_off\")"
   ]
  },
  {
   "cell_type": "code",
   "execution_count": null,
   "metadata": {},
   "outputs": [],
   "source": [
    "operations[pivot].make_client().execute_action(\"pinA_state_no_setup\")"
   ]
  },
  {
   "cell_type": "code",
   "execution_count": null,
   "metadata": {},
   "outputs": [],
   "source": [
    "operations[pivot].make_client().execute_action(\"pinB_off\")"
   ]
  },
  {
   "cell_type": "code",
   "execution_count": null,
   "metadata": {},
   "outputs": [],
   "source": [
    "operations[pivot].make_client().execute_action(\"pinB_off\")"
   ]
  },
  {
   "cell_type": "code",
   "execution_count": null,
   "metadata": {},
   "outputs": [],
   "source": [
    "operations[pivot].make_client().execute_action(\"pinB_state_no_setup\")"
   ]
  }
 ],
 "metadata": {
  "kernelspec": {
   "display_name": "Python 3",
   "language": "python",
   "name": "python3"
  },
  "language_info": {
   "codemirror_mode": {
    "name": "ipython",
    "version": 3
   },
   "file_extension": ".py",
   "mimetype": "text/x-python",
   "name": "python",
   "nbconvert_exporter": "python",
   "pygments_lexer": "ipython3",
   "version": "3.7.3"
  }
 },
 "nbformat": 4,
 "nbformat_minor": 4
}
