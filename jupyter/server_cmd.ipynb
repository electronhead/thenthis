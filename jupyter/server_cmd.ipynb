{
 "cells": [
  {
   "cell_type": "code",
   "execution_count": null,
   "metadata": {},
   "outputs": [],
   "source": [
    "{name:configuration.initialize() for (name,configuration) in configurations.items()}"
   ]
  },
  {
   "cell_type": "code",
   "execution_count": null,
   "metadata": {},
   "outputs": [],
   "source": [
    "from datetime import timedelta, datetime, date, time\n",
    "import whendo.core.util as util\n",
    "import thenthis.server_configs as conf_x\n",
    "\n",
    "hub = \"batterypi\"\n",
    "test = \"sandpatch-pivot\"\n",
    "pivot = \"remotepi\"\n",
    "configurations = conf_x.ranch_configurations\n",
    "pp = lambda x: util.PP.pprint(x.flatten_results())"
   ]
  },
  {
   "cell_type": "code",
   "execution_count": null,
   "metadata": {},
   "outputs": [],
   "source": [
    "operations = {name:configuration.operations() for (name,configuration) in configurations.items()}"
   ]
  },
  {
   "cell_type": "code",
   "execution_count": null,
   "metadata": {},
   "outputs": [],
   "source": [
    "print(f\"pivot operation ({pivot_operation}) test operation ({test_operation})\")"
   ]
  },
  {
   "cell_type": "markdown",
   "metadata": {},
   "source": [
    "####  commands applying to **test pi**"
   ]
  },
  {
   "cell_type": "code",
   "execution_count": null,
   "metadata": {},
   "outputs": [],
   "source": [
    "pp(operations[test].schedule_toggle(start=util.Now.dt(), stop=util.Now.dt() + timedelta(hours=15)))\n",
    "test_operation = \"toggle\""
   ]
  },
  {
   "cell_type": "code",
   "execution_count": null,
   "metadata": {},
   "outputs": [],
   "source": [
    "pp(operations[test].schedule_pivot(start=util.Now.dt(), stop=util.Now.dt() + timedelta(hours=15)))\n",
    "test_operation = \"start_pivot\""
   ]
  },
  {
   "cell_type": "code",
   "execution_count": null,
   "metadata": {},
   "outputs": [],
   "source": [
    "pp(operations[test].unschedule_toggle())\n",
    "test_operation = None"
   ]
  },
  {
   "cell_type": "code",
   "execution_count": null,
   "metadata": {},
   "outputs": [],
   "source": [
    "pp(operations[test].show_system_info())"
   ]
  },
  {
   "cell_type": "code",
   "execution_count": null,
   "metadata": {},
   "outputs": [],
   "source": [
    "pp(operations[test].show_pin_states())"
   ]
  },
  {
   "cell_type": "code",
   "execution_count": 21,
   "metadata": {},
   "outputs": [
    {
     "name": "stdout",
     "output_type": "stream",
     "text": [
      "[ { 'action_info': { 'class': 'whendo.core.actions.list_action.ListAction',\n",
      "                     'instance': { 'actions': [ {'mini_info': 'mini_info'},\n",
      "                                                { 'scheduling_info': 'scheduling_info'},\n",
      "                                                { 'format_op_mode': None,\n",
      "                                                  'rez_fmt': 'rez_fmt'}],\n",
      "                                   'exception_on_no_success': None,\n",
      "                                   'include_processing_info': None,\n",
      "                                   'op_mode': 'all'}},\n",
      "    'action_result': [ { 'action_info': { 'class': 'whendo.core.actions.dispatch_action.SchedulingInfo',\n",
      "                                          'instance': { 'scheduling_info': 'scheduling_info'}},\n",
      "                         'action_result': { 'deferred_programs': { 'deferred_programs': [ ]},\n",
      "                                            'deferred_scheduled_actions': { 'dated_scheduled_actions': None},\n",
      "                                            'expiring_scheduled_actions': { 'dated_scheduled_actions': None},\n",
      "                                            'scheduled_actions': { 'scheduler_actions': [ ]}}},\n",
      "                       { 'action_info': { 'class': 'whendo.core.actions.sys_action.MiniInfo',\n",
      "                                          'instance': { 'mini_info': 'mini_info'}},\n",
      "                         'action_result': { 'host': '192.168.1.161',\n",
      "                                            'port': 8000,\n",
      "                                            'time': '11:23:07 on '\n",
      "                                                    '2021-06-07'}}]},\n",
      "  { 'action_info': { 'class': 'whendo.core.actions.list_action.RezFmt',\n",
      "                     'instance': { 'format_op_mode': None,\n",
      "                                   'rez_fmt': 'rez_fmt'}},\n",
      "    'action_result': [ { 'action_info': { 'class': 'whendo.core.actions.dispatch_action.SchedulingInfo',\n",
      "                                          'instance': { 'scheduling_info': 'scheduling_info'}},\n",
      "                         'action_result': { 'deferred_programs': { 'deferred_programs': [ ]},\n",
      "                                            'deferred_scheduled_actions': { 'dated_scheduled_actions': None},\n",
      "                                            'expiring_scheduled_actions': { 'dated_scheduled_actions': None},\n",
      "                                            'scheduled_actions': { 'scheduler_actions': [ ]}}},\n",
      "                       { 'action_info': { 'class': 'whendo.core.actions.sys_action.MiniInfo',\n",
      "                                          'instance': { 'mini_info': 'mini_info'}},\n",
      "                         'action_result': { 'host': '192.168.1.161',\n",
      "                                            'port': 8000,\n",
      "                                            'time': '11:23:07 on '\n",
      "                                                    '2021-06-07'}}]},\n",
      "  { 'action_info': { 'class': 'whendo.core.actions.dispatch_action.SchedulingInfo',\n",
      "                     'instance': {'scheduling_info': 'scheduling_info'}},\n",
      "    'action_result': { 'deferred_programs': {'deferred_programs': []},\n",
      "                       'deferred_scheduled_actions': { 'dated_scheduled_actions': None},\n",
      "                       'expiring_scheduled_actions': { 'dated_scheduled_actions': None},\n",
      "                       'scheduled_actions': {'scheduler_actions': []}}},\n",
      "  { 'action_info': { 'class': 'whendo.core.actions.sys_action.MiniInfo',\n",
      "                     'instance': {'mini_info': 'mini_info'}},\n",
      "    'action_result': { 'host': '192.168.1.161',\n",
      "                       'port': 8000,\n",
      "                       'time': '11:23:07 on 2021-06-07'}}]\n"
     ]
    }
   ],
   "source": [
    "pp(operations[test].show_scheduling())"
   ]
  },
  {
   "cell_type": "code",
   "execution_count": null,
   "metadata": {},
   "outputs": [],
   "source": [
    "pp(operations[test].show_dispatcher_info())"
   ]
  },
  {
   "cell_type": "markdown",
   "metadata": {
    "tags": []
   },
   "source": [
    "####  commands applying to **pivot pi**"
   ]
  },
  {
   "cell_type": "code",
   "execution_count": null,
   "metadata": {},
   "outputs": [],
   "source": [
    "pp(operations[pivot].schedule_toggle(start=util.Now.dt(), stop=util.Now.dt() + timedelta(hours=15)))\n",
    "pivot_operation = \"toggle\""
   ]
  },
  {
   "cell_type": "code",
   "execution_count": null,
   "metadata": {},
   "outputs": [],
   "source": [
    "pp(operations[pivot].schedule_pivot(start=util.Now.dt(), stop=util.Now.dt() + timedelta(hours=15)))\n",
    "pivot_operation = \"start_pivot\""
   ]
  },
  {
   "cell_type": "code",
   "execution_count": null,
   "metadata": {},
   "outputs": [],
   "source": [
    "pp(operations[pivot].unschedule_pivot())\n",
    "pivot_operation = None"
   ]
  },
  {
   "cell_type": "code",
   "execution_count": null,
   "metadata": {},
   "outputs": [],
   "source": [
    "pp(operations[pivot].show_system_info())"
   ]
  },
  {
   "cell_type": "code",
   "execution_count": null,
   "metadata": {},
   "outputs": [],
   "source": [
    "pp(operations[pivot].show_pin_states())"
   ]
  },
  {
   "cell_type": "code",
   "execution_count": 19,
   "metadata": {},
   "outputs": [
    {
     "name": "stdout",
     "output_type": "stream",
     "text": [
      "[ { 'action_info': { 'class': 'whendo.core.actions.list_action.All',\n",
      "                     'instance': { 'actions': [ {'mini_info': 'mini_info'},\n",
      "                                                { 'scheduling_info': 'scheduling_info'},\n",
      "                                                { 'format_op_mode': None,\n",
      "                                                  'rez_fmt': 'rez_fmt'}],\n",
      "                                   'exception_on_no_success': None,\n",
      "                                   'include_processing_info': None,\n",
      "                                   'op_mode': 'all'}},\n",
      "    'action_result': [ { 'action_info': { 'class': 'whendo.core.actions.dispatch_action.SchedulingInfo',\n",
      "                                          'instance': { 'scheduling_info': 'scheduling_info'}},\n",
      "                         'action_result': { 'deferred_programs': { 'deferred_programs': [ ]},\n",
      "                                            'deferred_scheduled_actions': { 'dated_scheduled_actions': None},\n",
      "                                            'expiring_scheduled_actions': { 'dated_scheduled_actions': None},\n",
      "                                            'scheduled_actions': { 'scheduler_actions': [ ]}}},\n",
      "                       { 'action_info': { 'class': 'whendo.core.actions.sys_action.MiniInfo',\n",
      "                                          'instance': { 'mini_info': 'mini_info'}},\n",
      "                         'action_result': { 'host': '192.168.1.37',\n",
      "                                            'port': 8000,\n",
      "                                            'time': '11:21:58 on '\n",
      "                                                    '2021-06-07'}}]},\n",
      "  { 'action_info': { 'class': 'whendo.core.actions.list_action.RezFmt',\n",
      "                     'instance': { 'format_op_mode': None,\n",
      "                                   'rez_fmt': 'rez_fmt'}},\n",
      "    'action_result': [ { 'action_info': { 'class': 'whendo.core.actions.dispatch_action.SchedulingInfo',\n",
      "                                          'instance': { 'scheduling_info': 'scheduling_info'}},\n",
      "                         'action_result': { 'deferred_programs': { 'deferred_programs': [ ]},\n",
      "                                            'deferred_scheduled_actions': { 'dated_scheduled_actions': None},\n",
      "                                            'expiring_scheduled_actions': { 'dated_scheduled_actions': None},\n",
      "                                            'scheduled_actions': { 'scheduler_actions': [ ]}}},\n",
      "                       { 'action_info': { 'class': 'whendo.core.actions.sys_action.MiniInfo',\n",
      "                                          'instance': { 'mini_info': 'mini_info'}},\n",
      "                         'action_result': { 'host': '192.168.1.37',\n",
      "                                            'port': 8000,\n",
      "                                            'time': '11:21:58 on '\n",
      "                                                    '2021-06-07'}}]},\n",
      "  { 'action_info': { 'class': 'whendo.core.actions.dispatch_action.SchedulingInfo',\n",
      "                     'instance': {'scheduling_info': 'scheduling_info'}},\n",
      "    'action_result': { 'deferred_programs': {'deferred_programs': []},\n",
      "                       'deferred_scheduled_actions': { 'dated_scheduled_actions': None},\n",
      "                       'expiring_scheduled_actions': { 'dated_scheduled_actions': None},\n",
      "                       'scheduled_actions': {'scheduler_actions': []}}},\n",
      "  { 'action_info': { 'class': 'whendo.core.actions.sys_action.MiniInfo',\n",
      "                     'instance': {'mini_info': 'mini_info'}},\n",
      "    'action_result': { 'host': '192.168.1.37',\n",
      "                       'port': 8000,\n",
      "                       'time': '11:21:58 on 2021-06-07'}}]\n"
     ]
    }
   ],
   "source": [
    "pp(operations[pivot].show_scheduling())"
   ]
  },
  {
   "cell_type": "code",
   "execution_count": null,
   "metadata": {
    "tags": []
   },
   "outputs": [],
   "source": [
    "pp(operations[pivot].show_dispatcher_info())"
   ]
  },
  {
   "cell_type": "markdown",
   "metadata": {
    "tags": []
   },
   "source": [
    "####  commands applying to **hub pi**"
   ]
  },
  {
   "cell_type": "code",
   "execution_count": null,
   "metadata": {},
   "outputs": [],
   "source": [
    "pp(operations[pivot].show_system_info())"
   ]
  },
  {
   "cell_type": "code",
   "execution_count": null,
   "metadata": {
    "tags": []
   },
   "outputs": [],
   "source": [
    "pp(operations[pivot].show_dispatcher_info())"
   ]
  },
  {
   "cell_type": "markdown",
   "metadata": {},
   "source": [
    "####  miscellany"
   ]
  },
  {
   "cell_type": "code",
   "execution_count": null,
   "metadata": {},
   "outputs": [],
   "source": [
    "operations[pivot].make_client().execute_action(\"pinB_off\")"
   ]
  },
  {
   "cell_type": "code",
   "execution_count": null,
   "metadata": {},
   "outputs": [],
   "source": [
    "operations[pivot].make_client().execute_action(\"pinB_state_no_setup\")"
   ]
  },
  {
   "cell_type": "code",
   "execution_count": null,
   "metadata": {},
   "outputs": [],
   "source": [
    "operations[test].make_client().execute_action(\"pinB_off\")"
   ]
  },
  {
   "cell_type": "code",
   "execution_count": null,
   "metadata": {},
   "outputs": [],
   "source": [
    "operations[test].make_client().execute_action(\"pinB_state_no_setup\")"
   ]
  }
 ],
 "metadata": {
  "kernelspec": {
   "display_name": "Python 3",
   "language": "python",
   "name": "python3"
  },
  "language_info": {
   "codemirror_mode": {
    "name": "ipython",
    "version": 3
   },
   "file_extension": ".py",
   "mimetype": "text/x-python",
   "name": "python",
   "nbconvert_exporter": "python",
   "pygments_lexer": "ipython3",
   "version": "3.7.3"
  }
 },
 "nbformat": 4,
 "nbformat_minor": 4
}
