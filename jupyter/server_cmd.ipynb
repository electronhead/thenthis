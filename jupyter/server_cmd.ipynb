{
 "cells": [
  {
   "cell_type": "code",
   "execution_count": null,
   "metadata": {},
   "outputs": [],
   "source": [
    "{name:configuration.initialize() for (name,configuration) in configurations.items()}"
   ]
  },
  {
   "cell_type": "code",
   "execution_count": null,
   "metadata": {},
   "outputs": [],
   "source": [
    "from datetime import timedelta, datetime, date, time\n",
    "import whendo.core.util as util\n",
    "import thenthis.server_configs as conf_x\n",
    "\n",
    "hub = \"batterypi\"\n",
    "test = \"remotepi\"\n",
    "pivot = \"sandpatch-pivot\"\n",
    "configurations = conf_x.ranch_configurations\n",
    "pp = lambda x: util.PP.pprint(x.flatten_results())"
   ]
  },
  {
   "cell_type": "code",
   "execution_count": null,
   "metadata": {},
   "outputs": [],
   "source": [
    "operations = {name:configuration.operations() for (name,configuration) in configurations.items()}"
   ]
  },
  {
   "cell_type": "markdown",
   "metadata": {},
   "source": [
    "####  commands applying to **test pi**"
   ]
  },
  {
   "cell_type": "code",
   "execution_count": 15,
   "metadata": {},
   "outputs": [
    {
     "name": "stdout",
     "output_type": "stream",
     "text": [
      "[ { 'action_info': { 'class': 'whendo.core.actions.dispatch_action.ScheduleProgram',\n",
      "                     'instance': { 'program_name': 'toggle_program',\n",
      "                                   'schedule_program': 'schedule_program',\n",
      "                                   'start_stop': None}},\n",
      "    'action_result': 'program (toggle_program) scheduled, '\n",
      "                     'start_stop(dt1=datetime.datetime(2021, 6, 6, 17, 11, 8, '\n",
      "                     '574109) dt2=datetime.datetime(2021, 6, 7, 8, 11, 8, '\n",
      "                     '574354))'},\n",
      "  {'action_info': None, 'action_result': 'Empty action result'}]\n"
     ]
    }
   ],
   "source": [
    "pp(operations[test].schedule_toggle(start=util.Now.dt(), stop=util.Now.dt() + timedelta(hours=15)))"
   ]
  },
  {
   "cell_type": "code",
   "execution_count": null,
   "metadata": {},
   "outputs": [],
   "source": [
    "pp(operations[test].unschedule_toggle())"
   ]
  },
  {
   "cell_type": "code",
   "execution_count": null,
   "metadata": {},
   "outputs": [],
   "source": [
    "pp(operations[test].show_system_info())"
   ]
  },
  {
   "cell_type": "code",
   "execution_count": 14,
   "metadata": {},
   "outputs": [
    {
     "name": "stdout",
     "output_type": "stream",
     "text": [
      "[ { 'action_info': { 'class': 'whendo.core.actions.list_action.All',\n",
      "                     'instance': { 'actions': [ { 'pin': 18,\n",
      "                                                  'pin_state': 'pin_state',\n",
      "                                                  'setup': False},\n",
      "                                                { 'pin': 17,\n",
      "                                                  'pin_state': 'pin_state',\n",
      "                                                  'setup': False}],\n",
      "                                   'exception_on_no_success': None,\n",
      "                                   'include_processing_info': None,\n",
      "                                   'op_mode': 'all'}},\n",
      "    'action_result': { 'exception': 'You must setup() the GPIO channel first',\n",
      "                       'pin': 17,\n",
      "                       'pin_state': 'pin_state',\n",
      "                       'setup': False}},\n",
      "  { 'action_info': None,\n",
      "    'action_result': { 'exception': 'You must setup() the GPIO channel first',\n",
      "                       'pin': 17,\n",
      "                       'pin_state': 'pin_state',\n",
      "                       'setup': False}}]\n"
     ]
    }
   ],
   "source": [
    "pp(operations[test].show_pin_states())"
   ]
  },
  {
   "cell_type": "code",
   "execution_count": null,
   "metadata": {},
   "outputs": [],
   "source": [
    "pp(operations[test].show_scheduling())"
   ]
  },
  {
   "cell_type": "code",
   "execution_count": null,
   "metadata": {},
   "outputs": [],
   "source": [
    "pp(operations[test].show_dispatcher_info())"
   ]
  },
  {
   "cell_type": "markdown",
   "metadata": {
    "tags": []
   },
   "source": [
    "####  commands applying to **pivot pi**"
   ]
  },
  {
   "cell_type": "code",
   "execution_count": null,
   "metadata": {},
   "outputs": [],
   "source": [
    "pp(operations[pivot].schedule_pivot(start=util.Now.dt(), stop=util.Now.dt() + timedelta(hours=15)))"
   ]
  },
  {
   "cell_type": "code",
   "execution_count": null,
   "metadata": {},
   "outputs": [],
   "source": [
    "pp(operations[pivot].unschedule_pivot())"
   ]
  },
  {
   "cell_type": "code",
   "execution_count": null,
   "metadata": {},
   "outputs": [],
   "source": [
    "pp(operations[pivot].show_system_info())"
   ]
  },
  {
   "cell_type": "code",
   "execution_count": null,
   "metadata": {},
   "outputs": [],
   "source": [
    "pp(operations[pivot].show_pin_states())"
   ]
  },
  {
   "cell_type": "code",
   "execution_count": null,
   "metadata": {},
   "outputs": [],
   "source": [
    "pp(operations[pivot].show_scheduling())"
   ]
  },
  {
   "cell_type": "code",
   "execution_count": null,
   "metadata": {
    "tags": []
   },
   "outputs": [],
   "source": [
    "pp(operations[pivot].show_dispatcher_info())"
   ]
  },
  {
   "cell_type": "markdown",
   "metadata": {
    "tags": []
   },
   "source": [
    "####  commands applying to **hub pi**"
   ]
  },
  {
   "cell_type": "code",
   "execution_count": null,
   "metadata": {},
   "outputs": [],
   "source": [
    "pp(operations[pivot].show_system_info())"
   ]
  },
  {
   "cell_type": "code",
   "execution_count": null,
   "metadata": {
    "tags": []
   },
   "outputs": [],
   "source": [
    "pp(operations[pivot].show_dispatcher_info())"
   ]
  },
  {
   "cell_type": "markdown",
   "metadata": {},
   "source": [
    "####  miscellany"
   ]
  },
  {
   "cell_type": "code",
   "execution_count": null,
   "metadata": {},
   "outputs": [],
   "source": [
    "operations[pivot].make_client().execute_action(\"pinB_off\")"
   ]
  },
  {
   "cell_type": "code",
   "execution_count": null,
   "metadata": {},
   "outputs": [],
   "source": [
    "operations[pivot].make_client().execute_action(\"pinB_state_no_setup\")"
   ]
  },
  {
   "cell_type": "code",
   "execution_count": null,
   "metadata": {},
   "outputs": [],
   "source": [
    "operations[test].make_client().execute_action(\"pinB_off\")"
   ]
  },
  {
   "cell_type": "code",
   "execution_count": null,
   "metadata": {},
   "outputs": [],
   "source": [
    "operations[test].make_client().execute_action(\"pinB_state_no_setup\")"
   ]
  },
  {
   "cell_type": "code",
   "execution_count": null,
   "metadata": {},
   "outputs": [],
   "source": []
  }
 ],
 "metadata": {
  "kernelspec": {
   "display_name": "Python 3",
   "language": "python",
   "name": "python3"
  },
  "language_info": {
   "codemirror_mode": {
    "name": "ipython",
    "version": 3
   },
   "file_extension": ".py",
   "mimetype": "text/x-python",
   "name": "python",
   "nbconvert_exporter": "python",
   "pygments_lexer": "ipython3",
   "version": "3.7.3"
  }
 },
 "nbformat": 4,
 "nbformat_minor": 4
}
