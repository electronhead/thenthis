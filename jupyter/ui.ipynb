{
 "cells": [
  {
   "cell_type": "code",
   "execution_count": 1,
   "metadata": {},
   "outputs": [],
   "source": [
    "from datetime import timedelta\n",
    "from thenthis.widget import BaseModelWidget, ListWidget, DictionaryWidget\n",
    "import thenthis.configs as configs\n",
    "from ipywidgets import widgets\n",
    "from IPython.display import display\n",
    "import whendo.core.util as util"
   ]
  },
  {
   "cell_type": "code",
   "execution_count": 2,
   "metadata": {},
   "outputs": [],
   "source": [
    "cfg = configs.ranch_config"
   ]
  },
  {
   "cell_type": "code",
   "execution_count": null,
   "metadata": {},
   "outputs": [],
   "source": [
    "cfg.show_servers()"
   ]
  },
  {
   "cell_type": "code",
   "execution_count": null,
   "metadata": {},
   "outputs": [],
   "source": [
    "cfg.show_info()"
   ]
  },
  {
   "cell_type": "code",
   "execution_count": null,
   "metadata": {},
   "outputs": [],
   "source": [
    "cfg.show_pin_states()"
   ]
  },
  {
   "cell_type": "code",
   "execution_count": 4,
   "metadata": {},
   "outputs": [],
   "source": [
    "cfg.initialize_servers()"
   ]
  },
  {
   "cell_type": "code",
   "execution_count": 3,
   "metadata": {},
   "outputs": [],
   "source": [
    "cfg.run_jobs()"
   ]
  },
  {
   "cell_type": "code",
   "execution_count": null,
   "metadata": {
    "tags": []
   },
   "outputs": [],
   "source": [
    "cfg.schedule_programs(\n",
    "    start_stop=util.DateTime2(\n",
    "        dt1=util.Now.dt(), dt2=util.Now.dt() + timedelta(seconds=30)\n",
    "    )\n",
    ")"
   ]
  },
  {
   "cell_type": "code",
   "execution_count": 5,
   "metadata": {},
   "outputs": [
    {
     "data": {
      "text/plain": [
       "Rez(result=[Rez(result='program (toggle_program) scheduled, start_stop(dt1=datetime.datetime(2021, 5, 16, 0, 48, 47, 471949) dt2=datetime.datetime(2021, 5, 18, 0, 48, 47, 472092))', flds={'program_name': None, 'start_stop': DateTime2(dt1=datetime.datetime(2021, 5, 16, 0, 48, 47, 471949), dt2=datetime.datetime(2021, 5, 18, 0, 48, 47, 472092)), 'schedule_program': 'schedule_program'}, rez=Rez(result=None, flds={'program_name': None, 'start_stop': DateTime2(dt1=datetime.datetime(2021, 5, 16, 0, 48, 47, 471949), dt2=datetime.datetime(2021, 5, 18, 0, 48, 47, 472092)), 'schedule_program': 'schedule_program'}, rez=None, extra=None, info=None), extra=None, info={'class': 'whendo.core.actions.dispatch_action.ScheduleProgram', 'instance': ScheduleProgram(program_name='toggle_program', start_stop=None, schedule_program='schedule_program')}), Rez(result='program (toggle_program) scheduled, start_stop(dt1=datetime.datetime(2021, 5, 16, 0, 48, 47, 471949) dt2=datetime.datetime(2021, 5, 18, 0, 48, 47, 472092))', flds={'program_name': None, 'start_stop': DateTime2(dt1=datetime.datetime(2021, 5, 16, 0, 48, 47, 471949), dt2=datetime.datetime(2021, 5, 18, 0, 48, 47, 472092)), 'schedule_program': 'schedule_program'}, rez=Rez(result=None, flds={'program_name': None, 'start_stop': DateTime2(dt1=datetime.datetime(2021, 5, 16, 0, 48, 47, 471949), dt2=datetime.datetime(2021, 5, 18, 0, 48, 47, 472092)), 'schedule_program': 'schedule_program'}, rez=None, extra=None, info=None), extra=None, info={'class': 'whendo.core.actions.dispatch_action.ScheduleProgram', 'instance': ScheduleProgram(program_name='toggle_program', start_stop=None, schedule_program='schedule_program')})], flds={'program_name': None, 'start_stop': DateTime2(dt1=datetime.datetime(2021, 5, 16, 0, 48, 47, 471949), dt2=datetime.datetime(2021, 5, 18, 0, 48, 47, 472092)), 'schedule_program': 'schedule_program'}, rez=Rez(result=None, flds={'program_name': None, 'start_stop': DateTime2(dt1=datetime.datetime(2021, 5, 16, 0, 48, 47, 471949), dt2=datetime.datetime(2021, 5, 18, 0, 48, 47, 472092)), 'schedule_program': 'schedule_program'}, rez=None, extra=None, info=None), extra=None, info={'class': 'whendo.core.actions.dispatch_action.ExecKeyTags', 'instance': ExecKeyTags(action_name='schedule_toggle_program', key_tags={'roles': {'pivot'}}, key_tag_mode=<KeyTagMode.ANY: 'any'>, exec_key_tags='exec_key_tags')})"
      ]
     },
     "execution_count": 5,
     "metadata": {},
     "output_type": "execute_result"
    }
   ],
   "source": [
    "cfg.schedule_toggles(\n",
    "    start_stop=util.DateTime2(\n",
    "        dt1=util.Now.dt(), dt2=util.Now.dt() + timedelta(hours=48)\n",
    "    )\n",
    ")"
   ]
  },
  {
   "cell_type": "code",
   "execution_count": null,
   "metadata": {},
   "outputs": [],
   "source": [
    "cfg.schedule_notifications()"
   ]
  },
  {
   "cell_type": "code",
   "execution_count": null,
   "metadata": {},
   "outputs": [],
   "source": [
    "cfg.unschedule_pivots()"
   ]
  },
  {
   "cell_type": "code",
   "execution_count": null,
   "metadata": {},
   "outputs": [],
   "source": [
    "tab_contents = [\"actions\", \"schedulers\", \"programs\", \"servers\"]\n",
    "children = [\n",
    "    DictionaryWidget(dictionary=dictionary).ui()\n",
    "    for dictionary in [cfg.actions, cfg.schedulers, cfg.programs, cfg.servers]\n",
    "]\n",
    "tab = widgets.Tab(children=children, titles=tab_contents)"
   ]
  },
  {
   "cell_type": "code",
   "execution_count": null,
   "metadata": {},
   "outputs": [],
   "source": [
    "display(tab)"
   ]
  },
  {
   "cell_type": "code",
   "execution_count": null,
   "metadata": {},
   "outputs": [],
   "source": [
    "util.PP.pprint(cfg.server_client(cfg.pi4).load_dispatcher().dict())"
   ]
  },
  {
   "cell_type": "markdown",
   "metadata": {},
   "source": [
    "display(DictionaryWidget(dictionary=cfg.server_client(cfg.pi4).load_dispatcher().dict()).ui())"
   ]
  },
  {
   "cell_type": "markdown",
   "metadata": {},
   "source": [
    "display(BaseModelWidget(model=cfg.server_client(cfg.pi4).load_dispatcher()).ui())"
   ]
  },
  {
   "cell_type": "code",
   "execution_count": null,
   "metadata": {},
   "outputs": [],
   "source": [
    "patch = cfg.server_client(cfg.hub()).execute_supplied_action()"
   ]
  },
  {
   "cell_type": "code",
   "execution_count": null,
   "metadata": {},
   "outputs": [],
   "source": [
    "import whendo.core.actions.dispatch_action as disp_x\n",
    "action = disp_x.ExecKeyTags(key_tags={\"server_name\":[\"remotepi\"]}, action_name=\"system_info\")\n",
    "import whendo.sdk.client as client\n",
    "cl = client.Client(host=\"192.168.1.141\", port=8000)\n",
    "key_tags={\"server_name\":[\"remotepi\"]}\n",
    "# cl.get_servers()\n",
    "cl.get_server_tags(server_name=\"batterypi\")\n",
    "cl.execute_action(action_name=\"pinA_state\")\n",
    "# cl.http().post_dict(f\"/servers/by_tags\", key_tags)\n",
    "# cl.get_servers_by_tags(key_tags={\"server_name\":[\"remotepi\"]})\n",
    "# cl.execute_supplied_action(supplied_action=action)\n",
    "# cl.load_dispatcher()"
   ]
  },
  {
   "cell_type": "code",
   "execution_count": null,
   "metadata": {},
   "outputs": [],
   "source": [
    "import whendo.sdk.client as client\n",
    "patch = client.Client(host=\"192.168.1.141\", port=8000)\n",
    "patch.load_dispatcher()"
   ]
  },
  {
   "cell_type": "code",
   "execution_count": null,
   "metadata": {},
   "outputs": [],
   "source": [
    "patch.execute_action(\"system_info\")"
   ]
  },
  {
   "cell_type": "code",
   "execution_count": null,
   "metadata": {},
   "outputs": [],
   "source": [
    "patch.execute_action(\"pinA_on\")"
   ]
  },
  {
   "cell_type": "code",
   "execution_count": null,
   "metadata": {},
   "outputs": [],
   "source": [
    "import whendo.core.actions.dispatch_action as disp_x\n",
    "action = disp_x.ExecKeyTags(\n",
    "    action_name=\"system_info\", key_tags={\"roles\": [\"pivot\"]}\n",
    ")\n",
    "import whendo.sdk.client as client\n",
    "hub = client.Client(host=\"192.168.1.94\", port=8000)\n",
    "for rez in hub.execute_supplied_action(supplied_action=action).result:\n",
    "    print(rez.result)"
   ]
  },
  {
   "cell_type": "code",
   "execution_count": null,
   "metadata": {},
   "outputs": [],
   "source": [
    "import whendo.sdk.client as client\n",
    "patch = client.Client(host=\"192.168.1.141\", port=8000)\n",
    "remote = client.Client(host=\"192.168.1.214\", port=8000)\n",
    "hub = client.Client(host=\"192.168.1.94\", port=8000)\n",
    "remote.schedule_action(\"quickly\", \"pinA_toggle\")\n",
    "patch.schedule_action(\"quickly\", \"pinA_toggle\")\n",
    "remote.schedule_action(\"quickly\", \"pinB_toggle\")\n",
    "patch.schedule_action(\"quickly\", \"pinB_toggle\")"
   ]
  },
  {
   "cell_type": "code",
   "execution_count": null,
   "metadata": {},
   "outputs": [],
   "source": [
    "import whendo.sdk.client as client\n",
    "patch = client.Client(host=\"192.168.1.141\", port=8000)\n",
    "remote = client.Client(host=\"192.168.1.214\", port=8000)\n",
    "hub = client.Client(host=\"192.168.1.94\", port=8000)\n",
    "import whendo.core.actions.dispatch_action as disp_x\n",
    "action = disp_x.ExecKeyTags(key_tags={\"roles\":[\"pivot\"]}, action_name=\"system_info\")\n",
    "result = hub.execute_supplied_action(supplied_action=action)\n",
    "len(result.result)"
   ]
  },
  {
   "cell_type": "code",
   "execution_count": null,
   "metadata": {},
   "outputs": [],
   "source": [
    "start_stop = util.DateTime2(dt1 = util.Now.dt(), dt2 = util.Now.dt() + timedelta(minutes=60))\n",
    "result = hub.execute_action_with_rez(\n",
    "    action_name=\"toggle_pivots\", rez=util.Rez(flds={\"start_stop\": start_stop})\n",
    ")"
   ]
  },
  {
   "cell_type": "code",
   "execution_count": null,
   "metadata": {},
   "outputs": [],
   "source": [
    "len(result.result)"
   ]
  },
  {
   "cell_type": "code",
   "execution_count": null,
   "metadata": {},
   "outputs": [],
   "source": [
    "result.result[0]"
   ]
  },
  {
   "cell_type": "code",
   "execution_count": null,
   "metadata": {},
   "outputs": [],
   "source": []
  }
 ],
 "metadata": {
  "kernelspec": {
   "display_name": "Python 3",
   "language": "python",
   "name": "python3"
  },
  "language_info": {
   "codemirror_mode": {
    "name": "ipython",
    "version": 3
   },
   "file_extension": ".py",
   "mimetype": "text/x-python",
   "name": "python",
   "nbconvert_exporter": "python",
   "pygments_lexer": "ipython3",
   "version": "3.7.3"
  }
 },
 "nbformat": 4,
 "nbformat_minor": 4
}
