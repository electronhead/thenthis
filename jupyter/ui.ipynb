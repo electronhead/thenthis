{
 "cells": [
  {
   "cell_type": "code",
   "execution_count": null,
   "metadata": {},
   "outputs": [],
   "source": [
    "from datetime import timedelta\n",
    "from thenthis.widget import BaseModelWidget, ListWidget, DictionaryWidget\n",
    "import thenthis.configs as configs\n",
    "from ipywidgets import widgets\n",
    "from IPython.display import display\n",
    "import whendo.core.util as util"
   ]
  },
  {
   "cell_type": "code",
   "execution_count": null,
   "metadata": {},
   "outputs": [],
   "source": [
    "cfg = configs.pdx_config"
   ]
  },
  {
   "cell_type": "code",
   "execution_count": null,
   "metadata": {},
   "outputs": [],
   "source": [
    "cfg.show_servers()"
   ]
  },
  {
   "cell_type": "code",
   "execution_count": null,
   "metadata": {},
   "outputs": [],
   "source": [
    "cfg.show_info()"
   ]
  },
  {
   "cell_type": "code",
   "execution_count": null,
   "metadata": {},
   "outputs": [],
   "source": [
    "cfg.show_pin_states()"
   ]
  },
  {
   "cell_type": "code",
   "execution_count": null,
   "metadata": {},
   "outputs": [],
   "source": [
    "cfg.initialize_servers()"
   ]
  },
  {
   "cell_type": "code",
   "execution_count": null,
   "metadata": {},
   "outputs": [],
   "source": [
    "util.PP.pprint(\n",
    "    cfg.schedule_programs(\n",
    "        start_stop=util.DateTime2(\n",
    "            dt1=util.Now.dt(), dt2=util.Now.dt() + timedelta(seconds=30)\n",
    "        )\n",
    "    )\n",
    ")"
   ]
  },
  {
   "cell_type": "code",
   "execution_count": null,
   "metadata": {},
   "outputs": [],
   "source": [
    "cfg.schedule_toggles(\n",
    "    start_stop=util.DateTime2(\n",
    "        dt1=util.Now.dt(), dt2=util.Now.dt() + timedelta(hours=8)\n",
    "    )\n",
    ")"
   ]
  },
  {
   "cell_type": "code",
   "execution_count": null,
   "metadata": {},
   "outputs": [],
   "source": [
    "util.PP.pprint(\n",
    "    cfg.schedule_notifications()\n",
    ")"
   ]
  },
  {
   "cell_type": "code",
   "execution_count": null,
   "metadata": {},
   "outputs": [],
   "source": [
    "util.PP.pprint(\n",
    "    cfg.unschedule_pivots()\n",
    ")"
   ]
  },
  {
   "cell_type": "code",
   "execution_count": null,
   "metadata": {},
   "outputs": [],
   "source": [
    "tab_contents = [\"actions\", \"schedulers\", \"programs\", \"servers\"]\n",
    "children = [\n",
    "    DictionaryWidget(dictionary=dictionary).ui()\n",
    "    for dictionary in [cfg.actions, cfg.schedulers, cfg.programs, cfg.servers]\n",
    "]\n",
    "tab = widgets.Tab(children=children, titles=tab_contents)"
   ]
  },
  {
   "cell_type": "code",
   "execution_count": null,
   "metadata": {},
   "outputs": [],
   "source": [
    "display(tab)"
   ]
  },
  {
   "cell_type": "code",
   "execution_count": null,
   "metadata": {},
   "outputs": [],
   "source": [
    "util.PP.pprint(cfg.server_client(cfg.pi4).load_dispatcher().dict())"
   ]
  },
  {
   "cell_type": "markdown",
   "metadata": {},
   "source": [
    "display(DictionaryWidget(dictionary=cfg.server_client(cfg.pi4).load_dispatcher().dict()).ui())"
   ]
  },
  {
   "cell_type": "markdown",
   "metadata": {},
   "source": [
    "display(BaseModelWidget(model=cfg.server_client(cfg.pi4).load_dispatcher()).ui())"
   ]
  }
 ],
 "metadata": {
  "kernelspec": {
   "display_name": "Python 3",
   "language": "python",
   "name": "python3"
  },
  "language_info": {
   "codemirror_mode": {
    "name": "ipython",
    "version": 3
   },
   "file_extension": ".py",
   "mimetype": "text/x-python",
   "name": "python",
   "nbconvert_exporter": "python",
   "pygments_lexer": "ipython3",
   "version": "3.9.0"
  }
 },
 "nbformat": 4,
 "nbformat_minor": 4
}
