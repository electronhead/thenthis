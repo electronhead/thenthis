{
 "metadata": {
  "language_info": {
   "codemirror_mode": {
    "name": "ipython",
    "version": 3
   },
   "file_extension": ".py",
   "mimetype": "text/x-python",
   "name": "python",
   "nbconvert_exporter": "python",
   "pygments_lexer": "ipython3",
   "version": "3.9.0-final"
  },
  "orig_nbformat": 2,
  "kernelspec": {
   "name": "python390jvsc74a57bd04c98626437ba99daa98793f87304f9d4363999c1a0670c0bb4b33fc286f2bd99",
   "display_name": "Python 3.9.0 64-bit ('venv')"
  }
 },
 "nbformat": 4,
 "nbformat_minor": 2,
 "cells": [
  {
   "source": [
    "## Configuration\n",
    "\n",
    "Flock, Pivots, Chains, Actions, Schedulers, Programs, UI"
   ],
   "cell_type": "markdown",
   "metadata": {}
  },
  {
   "cell_type": "code",
   "execution_count": null,
   "metadata": {},
   "outputs": [],
   "source": [
    "from thenthis.widget import BaseModelWidget\n",
    "import thenthis.config as cfg\n",
    "from ipywidgets import Accordion, widgets\n",
    "from IPython.display import display\n",
    "import whendo.core.util as util\n",
    "\n",
    "flock = cfg.compute_flock()\n",
    "\n",
    "pivot_uis = [BaseModelWidget(model=pivot).ui() for pivot in flock.pivots]\n",
    "\n",
    "accordions1 = [Accordion(children=[pivot_ui]) for pivot_ui in pivot_uis]\n",
    "accordions2 = [Accordion(children=[pivot_ui]) for pivot_ui in pivot_uis]\n",
    "\n",
    "flock_ui = widgets.VBox(children=accordions1)\n",
    "flock_ui2 = widgets.VBox(children=accordions2)"
   ]
  },
  {
   "source": [
    "## Initialize all pivot pi's\n",
    "\n",
    "Add Actions, Schedulers and Programs to pivot pi's for future scheduling."
   ],
   "cell_type": "markdown",
   "metadata": {}
  },
  {
   "cell_type": "code",
   "execution_count": null,
   "metadata": {},
   "outputs": [],
   "source": [
    "cfg.initialize_pivots(flock=flock)"
   ]
  },
  {
   "source": [
    "## Run the lights"
   ],
   "cell_type": "markdown",
   "metadata": {}
  },
  {
   "cell_type": "code",
   "execution_count": null,
   "metadata": {},
   "outputs": [],
   "source": [
    "cfg.schedule_programs(flock=flock)"
   ]
  },
  {
   "source": [
    "## UI"
   ],
   "cell_type": "markdown",
   "metadata": {}
  },
  {
   "cell_type": "code",
   "execution_count": null,
   "metadata": {},
   "outputs": [],
   "source": [
    "display(flock_ui)"
   ]
  },
  {
   "cell_type": "code",
   "execution_count": null,
   "metadata": {},
   "outputs": [],
   "source": [
    "display(flock_ui2)"
   ]
  },
  {
   "cell_type": "code",
   "execution_count": null,
   "metadata": {},
   "outputs": [],
   "source": [
    "[pivot.name for pivot in flock.pivots]"
   ]
  },
  {
   "cell_type": "code",
   "execution_count": 1,
   "metadata": {},
   "outputs": [
    {
     "output_type": "execute_result",
     "data": {
      "text/plain": [
       "{'start': ModelField(name='start', type=Optional[time], required=False, default=None),\n",
       " 'stop': ModelField(name='stop', type=Optional[time], required=False, default=None),\n",
       " 'interval': ModelField(name='interval', type=int, required=True),\n",
       " 'hour': ModelField(name='hour', type=Optional[int], required=False, default=None),\n",
       " 'minute': ModelField(name='minute', type=Optional[int], required=False, default=None),\n",
       " 'second': ModelField(name='second', type=Optional[int], required=False, default=None)}"
      ]
     },
     "metadata": {},
     "execution_count": 1
    }
   ],
   "source": [
    "from whendo.core.schedulers.timed_scheduler import Timely\n",
    "from datetime import datetime, timedelta, time\n",
    "import thenthis.pi as pi\n",
    "import thenthis.widget as widget\n",
    "import whendo.core.util as util\n",
    "start = time(9,0,0)\n",
    "stop = time(15,0,0)\n",
    "ts = Timely(start=start, stop=stop, interval=20)\n",
    "ts.__fields__"
   ]
  },
  {
   "cell_type": "code",
   "execution_count": 2,
   "metadata": {},
   "outputs": [
    {
     "output_type": "display_data",
     "data": {
      "text/plain": "VBox(children=(IntText(value=27, description='pin', style=DescriptionStyle(description_width='initial')), IntT…",
      "application/vnd.jupyter.widget-view+json": {
       "version_major": 2,
       "version_minor": 0,
       "model_id": "13581ad1f9fc4ee19a4b3cdc27e79ca7"
      }
     },
     "metadata": {}
    }
   ],
   "source": [
    "display(widg.BaseModelWidget(model=pi.compute_actions()[\"pinA_on\"]).ui())"
   ]
  },
  {
   "cell_type": "code",
   "execution_count": 3,
   "metadata": {},
   "outputs": [
    {
     "output_type": "display_data",
     "data": {
      "text/plain": "VBox(children=(Text(value='file_append', description='file_append', placeholder='file_append', style=Descripti…",
      "application/vnd.jupyter.widget-view+json": {
       "version_major": 2,
       "version_minor": 0,
       "model_id": "b74460ec8c7449eda19088165f96b03c"
      }
     },
     "metadata": {}
    }
   ],
   "source": [
    "display(widg.BaseModelWidget(model=pi.compute_actions()[\"file_heartbeat\"]).ui())"
   ]
  },
  {
   "cell_type": "code",
   "execution_count": 4,
   "metadata": {},
   "outputs": [],
   "source": [
    "now = util.Now.dt()\n",
    "now1 = now +timedelta(hours=1)\n",
    "tt = Timely(interval=10, start=now.time(), stop=now1.time())"
   ]
  },
  {
   "cell_type": "code",
   "execution_count": 6,
   "metadata": {},
   "outputs": [
    {
     "output_type": "display_data",
     "data": {
      "text/plain": "VBox(children=(Text(value='12:25:53', description='start', placeholder='', style=DescriptionStyle(description_…",
      "application/vnd.jupyter.widget-view+json": {
       "version_major": 2,
       "version_minor": 0,
       "model_id": "aa4125f53f964472a1d65b8833191e4e"
      }
     },
     "metadata": {}
    }
   ],
   "source": [
    "display(widget.BaseModelWidget(model=tt).ui())"
   ]
  }
 ]
}