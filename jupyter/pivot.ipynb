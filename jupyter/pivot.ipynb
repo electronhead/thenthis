{
 "cells": [
  {
   "cell_type": "markdown",
   "metadata": {},
   "source": [
    "## Actions\n",
    "\n",
    "This section computes all of the Actions that will be executed on\n",
    "the pi's specified in the Workbench below."
   ]
  },
  {
   "cell_type": "code",
   "execution_count": null,
   "metadata": {},
   "outputs": [],
   "source": [
    "import whendo.core.actions.file_action as file_x\n",
    "import whendo.core.actions.logic_action as logic_x\n",
    "import whendo.core.actions.sys_action as sys_x\n",
    "import whendo_gpio.action as gpio_x\n",
    "\n",
    "def compute_actions():\n",
    "    actions = {}\n",
    "    actions[\"pinA_on\"] = gpio_x.SetPin(pin=27, on=True)\n",
    "    actions[\"pinA_off\"] = gpio_x.SetPin(pin=27, on=False)\n",
    "    actions[\"pinA_state\"] = gpio_x.SetPin(pin=27, on=False)\n",
    "    actions[\"pinB_on\"] = gpio_x.SetPin(pin=25, on=True)\n",
    "    actions[\"pinB_off\"] = gpio_x.SetPin(pin=25, on=False)\n",
    "    actions[\"pinB_state\"] = gpio_x.SetPin(pin=27, on=False)\n",
    "    actions[\"gpio_clear\"] = gpio_x.CleanupPins()\n",
    "    actions[\"file_heartbeat\"] = file_x.FileHeartbeat(file=\"gpio_beat.txt\")\n",
    "    actions[\"system_info\"] = sys_x.SysInfo()\n",
    "    actions[\"pause1\"] = sys_x.Pause()\n",
    "    actions[\"pause2\"] = sys_x.Pause(seconds=2)\n",
    "    actions[\"start_pivot\"] = logic_x.All(\n",
    "        action_list=[\n",
    "            actions[\"pinA_on\"],\n",
    "            actions[\"pinB_on\"],\n",
    "            actions[\"pause1\"],\n",
    "            actions[\"pinB_on\"],\n",
    "        ]\n",
    "    )\n",
    "    actions[\"pause_gpio_clear\"] = logic_x.All(\n",
    "        action_list=[actions[\"pause2\"], actions[\"gpio_clear\"]]\n",
    "    )\n",
    "    return actions"
   ]
  },
  {
   "cell_type": "markdown",
   "metadata": {},
   "source": [
    "## Schedulers\n",
    "\n",
    "This section computes the schedulers that will determine when Actions are\n",
    "executed."
   ]
  },
  {
   "cell_type": "code",
   "execution_count": null,
   "metadata": {},
   "outputs": [],
   "source": [
    "import whendo.core.schedulers.cont_scheduler as sched_x\n",
    "\n",
    "def compute_schedulers():\n",
    "    schedulers = {}\n",
    "    schedulers[\"timely\"] = sched_x.Timely(interval=10)\n",
    "    schedulers[\"immediately\"] = sched_x.Immediately()\n",
    "    return schedulers"
   ]
  },
  {
   "cell_type": "markdown",
   "metadata": {},
   "source": [
    "## Programs\n",
    "\n",
    "This section computes the Programs that the pi's will run for\n",
    "fixed time periods."
   ]
  },
  {
   "cell_type": "code",
   "execution_count": null,
   "metadata": {},
   "outputs": [],
   "source": [
    "import whendo.core.program as prog_x\n",
    "\n",
    "def compute_programs():\n",
    "    programs = {}\n",
    "    programs[\"pivot_program\"] = (\n",
    "        prog_x.Program()\n",
    "        .prologue(\"start_pivot\")\n",
    "        .epilogue(\"pause_gpio_clear\")\n",
    "        .body_element(\"timely\", \"pinA_on\")\n",
    "    )\n",
    "    return programs"
   ]
  },
  {
   "cell_type": "markdown",
   "metadata": {},
   "source": [
    "## Workbench and Clients\n",
    "\n",
    "This section computes the Workbench containing the pi Clients. The Clients\n",
    "are responsible for communicating with the pivot pi's."
   ]
  },
  {
   "cell_type": "code",
   "execution_count": null,
   "metadata": {},
   "outputs": [],
   "source": [
    "from whendo.sdk.workbench import Workbench\n",
    "from whendo.sdk.client import Client\n",
    "\n",
    "def compute_workbench():\n",
    "    workbench = Workbench()\n",
    "    workbench.add_client(\"pi3\", Client(host=\"192.168.0.46\"))\n",
    "    workbench.add_client(\"pi4\", Client(host=\"192.168.0.45\"))\n",
    "    return workbench\n",
    "\n",
    "def reset(client:Client):\n",
    "    client.clear_deferred_actions()\n",
    "    client.clear_expired_actions()\n",
    "    client.clear_dispatcher()\n",
    "    client.clear_jobs()\n",
    "\n",
    "def add_actions(client:Client):\n",
    "    [ client.add_action(*action) for action in compute_actions().items() ]\n",
    "\n",
    "def add_schedulers(client:Client):\n",
    "    [ client.add_scheduler(*scheduler) for scheduler in compute_schedulers().items() ]\n",
    "\n",
    "def add_programs(client:Client):\n",
    "    [ client.add_program(*program) for program in compute_programs().items() ]\n",
    "\n",
    "def initialize(client_list:[Client]):\n",
    "    for c in client_list:\n",
    "        reset(c)\n",
    "        add_actions(c)\n",
    "        add_schedulers(c)\n",
    "        add_programs(c)"
   ]
  },
  {
   "cell_type": "markdown",
   "metadata": {},
   "source": [
    "## Initialize all pivot pi's\n",
    "\n",
    "Add Actions, Schedulers and Programs to pivot pi's for future scheduling."
   ]
  },
  {
   "cell_type": "code",
   "execution_count": null,
   "metadata": {},
   "outputs": [],
   "source": [
    "workbench = compute_workbench()\n",
    "initialize(workbench.get_clients())"
   ]
  },
  {
   "cell_type": "markdown",
   "metadata": {},
   "source": [
    "## It's Widget Time!"
   ]
  },
  {
   "cell_type": "code",
   "execution_count": null,
   "metadata": {},
   "outputs": [],
   "source": [
    "from datetime import time, timedelta\n",
    "from whendo.core.util import DateTime2, Now\n",
    "dt2 = DateTime2(dt1=Now.dt(), dt2=Now.dt() + timedelta(seconds=45))\n",
    "pi3, pi4 = [workbench.get_client(x) for x in [\"pi3\", \"pi4\"]]"
   ]
  },
  {
   "cell_type": "code",
   "execution_count": null,
   "metadata": {},
   "outputs": [],
   "source": [
    "[x.schedule_program(\"pivot_program\", dt2) for x in [pi3, pi4]]"
   ]
  }
 ],
 "metadata": {
  "kernelspec": {
   "display_name": "Python 3",
   "language": "python",
   "name": "python3"
  },
  "language_info": {
   "codemirror_mode": {
    "name": "ipython",
    "version": 3
   },
   "file_extension": ".py",
   "mimetype": "text/x-python",
   "name": "python",
   "nbconvert_exporter": "python",
   "pygments_lexer": "ipython3",
   "version": "3.9.0"
  }
 },
 "nbformat": 4,
 "nbformat_minor": 4
}