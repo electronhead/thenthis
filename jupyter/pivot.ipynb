{
 "metadata": {
  "language_info": {
   "codemirror_mode": {
    "name": "ipython",
    "version": 3
   },
   "file_extension": ".py",
   "mimetype": "text/x-python",
   "name": "python",
   "nbconvert_exporter": "python",
   "pygments_lexer": "ipython3",
   "version": "3.9.0-final"
  },
  "orig_nbformat": 2,
  "kernelspec": {
   "name": "python3",
   "display_name": "Python 3",
   "language": "python"
  }
 },
 "nbformat": 4,
 "nbformat_minor": 2,
 "cells": [
  {
   "cell_type": "code",
   "execution_count": null,
   "metadata": {},
   "outputs": [],
   "source": [
    "from datetime import datetime, time, timedelta\n",
    "from typing import Optional, Set, List\n",
    "from pydantic import BaseModel\n",
    "import whendo.core.util as util"
   ]
  },
  {
   "cell_type": "markdown",
   "metadata": {},
   "source": [
    "## Actions\n",
    "\n",
    "This section computes all of the Actions that will be executed on\n",
    "the pi's specified in the Workbench below."
   ]
  },
  {
   "cell_type": "code",
   "execution_count": null,
   "metadata": {
    "tags": []
   },
   "outputs": [],
   "source": [
    "import whendo.core.actions.file_action as file_x\n",
    "import whendo.core.actions.logic_action as logic_x\n",
    "import whendo.core.actions.sys_action as sys_x\n",
    "import whendo_gpio.action as gpio_x\n",
    "\n",
    "def compute_actions():\n",
    "    actions = {}\n",
    "    actions[\"pinA_on\"] = gpio_x.SetPin(pin=27, on=True)\n",
    "    actions[\"pinA_off\"] = gpio_x.SetPin(pin=27, on=False)\n",
    "    actions[\"pinA_state\"] = gpio_x.SetPin(pin=27, on=False)\n",
    "    actions[\"pinB_on\"] = gpio_x.SetPin(pin=25, on=True)\n",
    "    actions[\"pinB_off\"] = gpio_x.SetPin(pin=25, on=False)\n",
    "    actions[\"pinB_state\"] = gpio_x.SetPin(pin=25, on=False)\n",
    "    actions[\"gpio_clear\"] = gpio_x.CleanupPins()\n",
    "    actions[\"file_heartbeat\"] = file_x.FileHeartbeat(file=\"gpio_beat.txt\")\n",
    "    actions[\"system_info\"] = sys_x.SysInfo()\n",
    "    actions[\"pause1\"] = sys_x.Pause()\n",
    "    actions[\"pause2\"] = sys_x.Pause(seconds=2)\n",
    "    actions[\"start_pivot\"] = logic_x.All(\n",
    "        action_list=[\n",
    "            actions[\"pinA_on\"],\n",
    "            actions[\"pinB_on\"],\n",
    "            actions[\"pause1\"],\n",
    "            actions[\"pinB_off\"],\n",
    "        ]\n",
    "    )\n",
    "    actions[\"pause_gpio_clear\"] = logic_x.All(\n",
    "        action_list=[actions[\"pause2\"], actions[\"gpio_clear\"]]\n",
    "    )\n",
    "    return actions"
   ]
  },
  {
   "cell_type": "markdown",
   "metadata": {},
   "source": [
    "## Schedulers\n",
    "\n",
    "This section computes the schedulers that will determine when Actions are\n",
    "executed."
   ]
  },
  {
   "cell_type": "code",
   "execution_count": null,
   "metadata": {},
   "outputs": [],
   "source": [
    "import whendo.core.schedulers.cont_scheduler as sched_x\n",
    "\n",
    "def compute_schedulers():\n",
    "    schedulers = {}\n",
    "    schedulers[\"timely\"] = sched_x.Timely(interval=10)\n",
    "    schedulers[\"immediately\"] = sched_x.Immediately()\n",
    "    return schedulers"
   ]
  },
  {
   "cell_type": "markdown",
   "metadata": {},
   "source": [
    "## Programs\n",
    "\n",
    "This section computes the Programs that the pi's will run for\n",
    "fixed time periods."
   ]
  },
  {
   "cell_type": "code",
   "execution_count": null,
   "metadata": {},
   "outputs": [],
   "source": [
    "import whendo.core.program as prog_x\n",
    "\n",
    "def compute_programs():\n",
    "    programs = {}\n",
    "    programs[\"pivot_program\"] = (\n",
    "        prog_x.Program()\n",
    "        .prologue(\"start_pivot\")\n",
    "        .epilogue(\"pause_gpio_clear\")\n",
    "        .body_element(\"timely\", \"pinA_on\")\n",
    "    )\n",
    "    return programs"
   ]
  },
  {
   "cell_type": "code",
   "execution_count": null,
   "metadata": {},
   "outputs": [],
   "source": [
    "from whendo.sdk.client import Client"
   ]
  },
  {
   "cell_type": "markdown",
   "metadata": {},
   "source": [
    "## Pivots"
   ]
  },
  {
   "cell_type": "code",
   "execution_count": null,
   "metadata": {},
   "outputs": [],
   "source": [
    "class Pivot(BaseModel):\n",
    "    name: str\n",
    "    client: Client\n",
    "    program: str\n",
    "    duration: timedelta\n",
    "    doc: Optional[str]=None"
   ]
  },
  {
   "cell_type": "markdown",
   "metadata": {},
   "source": [
    "## Chains"
   ]
  },
  {
   "cell_type": "code",
   "execution_count": null,
   "metadata": {},
   "outputs": [],
   "source": [
    "class Chain(BaseModel):\n",
    "    \"\"\"\n",
    "    A Chain corresponds to a list of Pivots where the stop time of one pivot is equal\n",
    "    to the start time of the next Pivot.\n",
    "    \"\"\"\n",
    "    name:str\n",
    "    pivots:List[Pivot]\n",
    "    durations:List[timedelta]\n",
    "    \n",
    "    def compute_stop(self, start:datetime):\n",
    "        return start + reduce(lambda x,y: x+y, self.pivots)\n",
    "    def compute_times(self, start:datetime):\n",
    "        last_start = start\n",
    "        result = [last_start]\n",
    "        for duration in self.durations:\n",
    "            next_start = last_start + duration\n",
    "            result.append(next_start)\n",
    "            last_start = next_start\n",
    "        return result\n",
    "    def compute_pivot_times(self, start:datetime):\n",
    "        \"\"\"\n",
    "        Returns a list of tuples of the form: (pivot, start, stop).\n",
    "        \"\"\"\n",
    "        result = []\n",
    "        programs = [pivot.program for pivot in self.pivots]\n",
    "        times = self.compute_times(start=start)\n",
    "        starts = times[:-1]\n",
    "        stops = times[1:]\n",
    "        datetime2s = [util.DateTime2(dt1=dt1, dt2=dt2) for dt1,dt2 in zip(starts, stops)]\n",
    "        result = list(zip(self.pivots, programs, datetime2s))\n",
    "        return result\n",
    "    def schedule_programs(self, start:datetime):\n",
    "        pivot_times = self.compute_pivot_times(start=start)\n",
    "        for pivot_time in pivot_times:\n",
    "            pivot = pivot_time[0]\n",
    "            program = pivot_time[1]\n",
    "            datetime2 = pivot_time[2]\n",
    "            pivot.client.schedule_program(program_name=program, datetime2=datetime2)\n",
    "    \n",
    "class ChainRepetition:\n",
    "    \"\"\"\n",
    "    A ChainRepetition represents consecutive invocations of a Chain.\n",
    "    \"\"\"\n",
    "    pass"
   ]
  },
  {
   "cell_type": "markdown",
   "metadata": {},
   "source": [
    "## Flocks"
   ]
  },
  {
   "cell_type": "code",
   "execution_count": null,
   "metadata": {},
   "outputs": [],
   "source": [
    "class Flock(BaseModel):\n",
    "    pivots:List[Pivot]=[]\n",
    "    chains:List[Chain]=[]\n",
    "        \n",
    "    def get_pivot(self, name:str):\n",
    "        try:\n",
    "            return [pivot for pivot in self.pivots if pivot.name == name][0]\n",
    "        except:\n",
    "            return None\n",
    "    def add_pivot(self, pivot:Pivot):\n",
    "        self.pivots.append(pivot)\n",
    "    def delete_pivot(self, pivot:Pivot):\n",
    "        self.pivots.remove(pivot)\n",
    "        \n",
    "    def get_chain(self, name:str):\n",
    "        try:\n",
    "            return [chain for chain in self.chains if chain.name == name][0]\n",
    "        except:\n",
    "            return None\n",
    "    def add_chain(self, chain:Chain):\n",
    "        self.chains.append(chain)\n",
    "    def delete_chain(self, chain:Chain):\n",
    "        self.chains.remove(chain)\n",
    "\n",
    "    def schedule_chain(self, name:str, start:datetime):\n",
    "        chain = self.get_chain(name)\n",
    "        for triple in chain.compute_pivot_times():\n",
    "            triple[0].schedule_program(triple[1], triple[2])"
   ]
  },
  {
   "cell_type": "markdown",
   "metadata": {},
   "source": [
    "## Initialization of the Flock, Pivots, Chains, Actions, Schedulers, Programs\n",
    "\n",
    "Prior to updating the pivot pi's."
   ]
  },
  {
   "cell_type": "code",
   "execution_count": null,
   "metadata": {},
   "outputs": [],
   "source": [
    "def compute_flock():\n",
    "    pi3 = Pivot(\n",
    "            name=\"pi3\", \n",
    "            client=Client(host=\"192.168.0.46\"),\n",
    "            program=\"pivot_program\",\n",
    "            duration=timedelta(seconds=30))\n",
    "    pi4 = Pivot(\n",
    "            name=\"pi4\",\n",
    "            client=Client(host=\"192.168.0.45\"),\n",
    "            program=\"pivot_program\",\n",
    "            duration=timedelta(seconds=45))\n",
    "    pivots = [pi3, pi4]\n",
    "    chain = Chain(\n",
    "            name=\"the_band\", \n",
    "            pivots=pivots,\n",
    "            durations = [pivot.duration for pivot in pivots])\n",
    "    return Flock(pivots = pivots, chains=[chain])\n",
    "\n",
    "def reset(client:Client):\n",
    "    client.stop_jobs()\n",
    "    client.clear_jobs()\n",
    "    client.clear_deferred_actions()\n",
    "    client.clear_expired_actions()\n",
    "    client.clear_dispatcher()\n",
    "\n",
    "def add_actions(client:Client):\n",
    "    [ client.add_action(*action) for action in compute_actions().items() ]\n",
    "\n",
    "def add_schedulers(client:Client):\n",
    "    [ client.add_scheduler(*scheduler) for scheduler in compute_schedulers().items() ]\n",
    "\n",
    "def add_programs(client:Client):\n",
    "    [ client.add_program(*program) for program in compute_programs().items() ]\n",
    "\n",
    "def initialize_pivots(flock:Flock):\n",
    "    for pivot in flock.pivots:\n",
    "        client = pivot.client\n",
    "        reset(client)\n",
    "        add_actions(client)\n",
    "        add_schedulers(client)\n",
    "        add_programs(client)\n",
    "        client.run_jobs()\n",
    "\n",
    "def schedule_programs(flock:Flock):\n",
    "    for chain in flock.chains:\n",
    "        chain.schedule_programs(start=util.Now.dt()+timedelta(seconds=5))\n",
    "\n",
    "flock = compute_flock()"
   ]
  },
  {
   "cell_type": "markdown",
   "metadata": {},
   "source": [
    "## Initialize all pivot pi's\n",
    "\n",
    "Add Actions, Schedulers and Programs to pivot pi's for future scheduling."
   ]
  },
  {
   "cell_type": "code",
   "execution_count": null,
   "metadata": {},
   "outputs": [],
   "source": [
    "initialize_pivots(flock)"
   ]
  },
  {
   "cell_type": "markdown",
   "metadata": {},
   "source": [
    "## Run the lights"
   ]
  },
  {
   "cell_type": "code",
   "execution_count": null,
   "metadata": {},
   "outputs": [],
   "source": [
    "schedule_programs(flock)\n"
   ]
  },
  {
   "source": [],
   "cell_type": "markdown",
   "metadata": {
    "tags": []
   }
  },
  {
   "cell_type": "markdown",
   "metadata": {},
   "source": [
    "## Widgets"
   ]
  },
  {
   "source": [
    "import ipywidgets as widgets\n",
    "from IPython.display import display"
   ],
   "cell_type": "markdown",
   "metadata": {}
  },
  {
   "source": [
    "w = widgets.IntSlider()\n",
    "display(w)\n",
    "display(w)"
   ],
   "cell_type": "markdown",
   "metadata": {}
  },
  {
   "source": [
    "w.close()"
   ],
   "cell_type": "markdown",
   "metadata": {}
  },
  {
   "source": [
    "w.value=50"
   ],
   "cell_type": "markdown",
   "metadata": {}
  },
  {
   "source": [
    "w.description"
   ],
   "cell_type": "markdown",
   "metadata": {}
  },
  {
   "source": [
    "a = widgets.FloatText()\n",
    "b = widgets.FloatSlider()\n",
    "display(a,b)\n",
    "\n",
    "mylink = widgets.jslink((a, 'value'), (b, 'value'))"
   ],
   "cell_type": "markdown",
   "metadata": {}
  },
  {
   "source": [
    "w = widgets.DatePicker(description=\"foo\")"
   ],
   "cell_type": "markdown",
   "metadata": {}
  },
  {
   "source": [
    "display(w)"
   ],
   "cell_type": "markdown",
   "metadata": {}
  },
  {
   "source": [
    "w.value"
   ],
   "cell_type": "markdown",
   "metadata": {}
  },
  {
   "source": [
    "from IPython.display import display\n",
    "button = widgets.Button(description=\"Click Me!\")\n",
    "output = widgets.Output()\n",
    "\n",
    "display(button, output)\n",
    "\n",
    "def on_button_clicked(b):\n",
    "    with output:\n",
    "        print(\"Button clicked.\")\n",
    "\n",
    "button.on_click(on_button_clicked)"
   ],
   "cell_type": "markdown",
   "metadata": {}
  },
  {
   "source": [],
   "cell_type": "markdown",
   "metadata": {}
  }
 ]
}