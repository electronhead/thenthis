{
 "metadata": {
  "language_info": {
   "codemirror_mode": {
    "name": "ipython",
    "version": 3
   },
   "file_extension": ".py",
   "mimetype": "text/x-python",
   "name": "python",
   "nbconvert_exporter": "python",
   "pygments_lexer": "ipython3",
   "version": 3
  },
  "orig_nbformat": 2
 },
 "nbformat": 4,
 "nbformat_minor": 2,
 "cells": [
  {
   "source": [
    "## Actions\n",
    "\n",
    "This section computes all of the Actions that will be executed on\n",
    "the pi's specified in the Workbench below."
   ],
   "cell_type": "markdown",
   "metadata": {}
  },
  {
   "cell_type": "code",
   "execution_count": null,
   "metadata": {},
   "outputs": [],
   "source": [
    "import whendo.core.actions.file_action as file_x\n",
    "import whendo.core.actions.logic_action as logic_x\n",
    "import whendo.core.actions.sys_action as sys_x\n",
    "import whendo_gpio.action as gpio_x\n",
    "\n",
    "def compute_actions():\n",
    "    actions = {}\n",
    "    actions[\"pinA_on\"] = gpio_x.SetPin(pin=27, on=True)\n",
    "    actions[\"pinA_off\"] = gpio_x.SetPin(pin=27, on=False)\n",
    "    actions[\"pinB_on\"] = gpio_x.SetPin(pin=25, on=True)\n",
    "    actions[\"pinB_off\"] = gpio_x.SetPin(pin=25, on=False)\n",
    "    actions[\"gpio_clear\"] = gpio_x.CleanupPins()\n",
    "    actions[\"file_heartbeat\"] = file_x.FileHeartbeat(file=\"gpio_beat.txt\")\n",
    "    actions[\"system_info\"] = sys_x.SysInfo()\n",
    "    actions[\"pause1\"] = sys_x.Pause()\n",
    "    actions[\"pause2\"] = sys_x.Pause(seconds=2)\n",
    "    actions[\"start_pivot\"] = logic_x.All(\n",
    "        action_list=[\n",
    "            actions[\"pinA_on\"],\n",
    "            actions[\"pinB_on\"],\n",
    "            actions[\"pause1\"],\n",
    "            actions[\"pinB_on\"],\n",
    "        ]\n",
    "    )\n",
    "    actions[\"pause_gpio_clear\"] = logic_x.All(\n",
    "        action_list=[actions[\"pause2\"], actions[\"gpio_clear\"]]\n",
    "    )\n",
    "    return actions"
   ]
  },
  {
   "source": [
    "## Schedulers\n",
    "\n",
    "This section computes the schedulers that will determine when Actions are\n",
    "executed."
   ],
   "cell_type": "markdown",
   "metadata": {}
  },
  {
   "cell_type": "code",
   "execution_count": null,
   "metadata": {},
   "outputs": [],
   "source": [
    "from datetime import time\n",
    "import whendo.core.util as util\n",
    "import whendo.core.scheduler as sched_x\n",
    "\n",
    "def compute_schedulers():\n",
    "    schedulers = {}\n",
    "    schedulers[\"timely\"] = sched_x.Timely(interval=10)\n",
    "    schedulers[\"immediately\"] = sched_x.Immediately()\n",
    "    return schedulers"
   ]
  },
  {
   "source": [
    "## Programs\n",
    "\n",
    "This section computes the Programs that the pi's will run for\n",
    "fixed time periods."
   ],
   "cell_type": "markdown",
   "metadata": {}
  },
  {
   "cell_type": "code",
   "execution_count": null,
   "metadata": {},
   "outputs": [],
   "source": [
    "import whendo.core.program as prog_x\n",
    "\n",
    "def compute_programs():\n",
    "    programs = {}\n",
    "    programs[\"pivot_program\"] = (\n",
    "        prog_x.Program()\n",
    "        .prologue(\"start_pivot\")\n",
    "        .epilogue(\"pause_gpio_clear\")\n",
    "        .body_element(\"timely\", \"pinA_on\")\n",
    "    )\n",
    "    return programs\n"
   ]
  },
  {
   "source": [
    "## Workbench and Clients\n",
    "\n",
    "This section computes the Workbench containing the pi Clients."
   ],
   "cell_type": "markdown",
   "metadata": {}
  },
  {
   "cell_type": "code",
   "execution_count": null,
   "metadata": {},
   "outputs": [],
   "source": [
    "from whendo.sdk.workbench import Workbench\n",
    "from whendo.sdk.client import Client\n",
    "\n",
    "def compute_workbench():\n",
    "    workbench = Workbench()\n",
    "    workbench.add_client(\"pi3\", Client(host=\"192.168.0.46\"))\n",
    "    workbench.add_client(\"pi4\", Client(host=\"192.168.0.45\"))\n",
    "    return workbench\n",
    "\n"
   ]
  }
 ]
}